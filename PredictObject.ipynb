{
 "cells": [
  {
   "cell_type": "code",
   "execution_count": 1,
   "id": "6c36dccc",
   "metadata": {
    "scrolled": true
   },
   "outputs": [],
   "source": [
    "import cvzone\n",
    "import numpy as np\n",
    "import pandas as pd\n",
    "import seaborn as sns\n",
    "import matplotlib.pyplot as plt\n",
    "import pathlib\n",
    "from sklearn.metrics import classification_report, confusion_matrix\n",
    "from tqdm import tqdm  \n",
    "# deep learning libraries\n",
    "import tensorflow as tf\n",
    "import keras\n",
    "import  pickle\n",
    "import time\n",
    "import imutils\n",
    "from imutils.video import VideoStream\n",
    "from imutils.video import FPS\n",
    "import queue, threading\n",
    "import cv2\n",
    "from keras.models import load_model\n",
    "import warnings\n",
    "warnings.filterwarnings('ignore')"
   ]
  },
  {
   "cell_type": "code",
   "execution_count": 2,
   "id": "8c672a63",
   "metadata": {},
   "outputs": [
    {
     "data": {
      "text/plain": [
       "<matplotlib.image.AxesImage at 0x1b1715470a0>"
      ]
     },
     "execution_count": 2,
     "metadata": {},
     "output_type": "execute_result"
    },
    {
     "data": {
      "image/png": "[encoded data removed]",
      "text/plain": [
       "<Figure size 432x432 with 1 Axes>"
      ]
     },
     "metadata": {
      "needs_background": "light"
     },
     "output_type": "display_data"
    }
   ],
   "source": [
    "\n",
    "test_img_path = '0e1a3d4b-9867-3b9c-a8f3-17ba252a5166.bmp'\n",
    "  \n",
    "img = cv2.imread(test_img_path)\n",
    "# print(img)\n",
    "resized_img = cv2.resize(img, (150, 150)).reshape(-1, 150, 150, 3)/255\n",
    "  \n",
    "plt.figure(figsize=(6,6))\n",
    "plt.title(\"TEST IMAGE\")\n",
    "plt.imshow(resized_img[0])"
   ]
  },
  {
   "cell_type": "code",
   "execution_count": 3,
   "id": "5396f8ba",
   "metadata": {},
   "outputs": [],
   "source": [
    "filepath = 'my_model'\n",
    "# import h5py\n",
    "\n",
    "# f = h5py.File(filepath, 'r')\n",
    "# print(f.attrs.get('keras_version'))\n",
    "# # Recreate the exact same model, including its weights and the optimizer\n",
    "new_model = tf.keras.models.load_model(filepath)\n",
    "\n"
   ]
  },
  {
   "cell_type": "code",
   "execution_count": 5,
   "id": "fb526861",
   "metadata": {},
   "outputs": [],
   "source": [
    "# pickle_out= open(\"model_trained.p\", \"wb\")\n",
    "# pickle.dump(new_model,pickle_out)\n",
    "# pickle_out.close()"
   ]
  },
  {
   "cell_type": "code",
   "execution_count": 8,
   "id": "849739cd",
   "metadata": {},
   "outputs": [
    {
     "name": "stdout",
     "output_type": "stream",
     "text": [
      "['0 Standard', '1 Dowels', '10 Round', '11 Round tube', '12 T', '13 U', '14 Z', '15 Steel', '16 Flat', '17 HEA', '18 IPE', '19 L', '2 Nut', '20 Square', '21 Square tube', '22 Rectangle tube', '23 Round', '24 Round tube', '25 T', '26 U', '27 Hat profile', '28 BU2 Profile', '29 ECO holder', '3 Washer', '30 F Profile', '31 KH 35   SZ 20', '32 NBK holder', '33 UBE NG', '34 Corners', '35 Accessories', '36 Tekofix profile', '37 Alkapo profile', '38 L Profile', '39 HWB consoles', '4 Aluminium', '40 Agraffe profile', '41 System UBE', '42 System UBEKA', '43 Targo UBE', '44 T wall bracket', '45 Thermal stop US and T', '46 Thermal stop', '47 U Alho profile', '48 U Profile', '49 WB', '5 Flat', '6 L', '7 Square', '8 Square tube', '9 Rectangle tube']\n"
     ]
    }
   ],
   "source": [
    "train_path ='Y:/Rafiq/Research/ML/DatasetSorted/train'\n",
    "test_path = 'Y:/Rafiq/Research/ML/DatasetSorted/val'\n",
    "img_width = 150\n",
    "img_height = 150\n",
    "batchsize = 32\n",
    "root = pathlib.Path(train_path)\n",
    "classes=sorted([j.name.split('/')[-1] for j in root.iterdir()])\n",
    "print(classes)\n",
    "# with open('classes.txt', 'x') as f:\n",
    "#     for item in classes:\n",
    "#         f.write(\"%s\\n\" % item)"
   ]
  },
  {
   "cell_type": "code",
   "execution_count": 5,
   "id": "59ba941b",
   "metadata": {},
   "outputs": [],
   "source": [
    "prediction = new_model.predict(resized_img)"
   ]
  },
  {
   "cell_type": "code",
   "execution_count": 6,
   "id": "6a4700ee",
   "metadata": {},
   "outputs": [
    {
     "name": "stdout",
     "output_type": "stream",
     "text": [
      "[[1.51063304e-08 1.32774141e-12 2.73747560e-15 2.96542237e-14\n",
      "  1.12129319e-08 5.47785987e-07 3.67889504e-11 4.33468984e-15\n",
      "  1.02697705e-10 1.68096889e-07 4.97767730e-11 9.99944687e-01\n",
      "  2.06645180e-13 3.66358090e-11 1.12385457e-07 5.23168696e-11\n",
      "  6.53659603e-15 1.10442081e-12 1.72527610e-08 3.76242948e-09\n",
      "  3.63470330e-11 1.23484688e-15 3.93249470e-19 3.29931036e-20\n",
      "  1.99607470e-16 4.73569850e-09 1.75529188e-23 3.30152029e-16\n",
      "  1.22444210e-09 3.49969495e-23 5.59095955e-16 2.95170844e-15\n",
      "  7.77626750e-16 1.14618251e-18 3.99689781e-16 6.95246591e-15\n",
      "  5.54693807e-25 1.31072658e-16 6.95679962e-20 7.04841177e-12\n",
      "  2.31254652e-17 2.09411095e-17 3.84382129e-17 2.66877185e-16\n",
      "  5.23233366e-12 1.83491503e-12 5.45105831e-05 1.35344921e-11\n",
      "  2.73523842e-10 1.37598732e-12]]\n"
     ]
    }
   ],
   "source": [
    "print(prediction)"
   ]
  },
  {
   "cell_type": "code",
   "execution_count": 9,
   "id": "dd944e6a",
   "metadata": {},
   "outputs": [
    {
     "name": "stdout",
     "output_type": "stream",
     "text": [
      "19 L\n"
     ]
    }
   ],
   "source": [
    "print(classes[np.argmax(prediction)])"
   ]
  },
  {
   "cell_type": "code",
   "execution_count": 28,
   "id": "99772297",
   "metadata": {},
   "outputs": [],
   "source": [
    "class VideoCapture:\n",
    "\n",
    "  def __init__(self, name):\n",
    "    self.cap = cv2.VideoCapture(name)\n",
    "    self.q = queue.Queue()\n",
    "    t = threading.Thread(target=self._reader)\n",
    "    t.daemon = True\n",
    "    t.start()\n",
    "\n",
    "  # read frames as soon as they are available, keeping only most recent one\n",
    "  def _reader(self):\n",
    "    while True:\n",
    "      ret, frame = self.cap.read()\n",
    "      if not ret:\n",
    "        break\n",
    "      if not self.q.empty():\n",
    "        try:\n",
    "          self.q.get_nowait()   # discard previous (unprocessed) frame\n",
    "        except queue.Empty:\n",
    "          pass\n",
    "      self.q.put(frame)\n",
    "\n",
    "  def read(self):\n",
    "    return self.q.get()\n",
    "\n"
   ]
  },
  {
   "cell_type": "code",
   "execution_count": 43,
   "id": "5996e947",
   "metadata": {},
   "outputs": [
    {
     "name": "stdout",
     "output_type": "stream",
     "text": [
      "[INFO] Elapsed Time: 129.46\n",
      "[INFO] Approximate FPS: 1.61\n"
     ]
    },
    {
     "ename": "AttributeError",
     "evalue": "'VideoCapture' object has no attribute 'stop'",
     "output_type": "error",
     "traceback": [
      "\u001b[1;31m---------------------------------------------------------------------------\u001b[0m",
      "\u001b[1;31mAttributeError\u001b[0m                            Traceback (most recent call last)",
      "\u001b[1;32m~\\AppData\\Local\\Temp/ipykernel_12168/2398138519.py\u001b[0m in \u001b[0;36m<module>\u001b[1;34m\u001b[0m\n\u001b[0;32m     61\u001b[0m \u001b[0mcv2\u001b[0m\u001b[1;33m.\u001b[0m\u001b[0mdestroyAllWindows\u001b[0m\u001b[1;33m(\u001b[0m\u001b[1;33m)\u001b[0m\u001b[1;33m\u001b[0m\u001b[1;33m\u001b[0m\u001b[0m\n\u001b[0;32m     62\u001b[0m \u001b[1;31m# Stop the video stream\u001b[0m\u001b[1;33m\u001b[0m\u001b[1;33m\u001b[0m\u001b[0m\n\u001b[1;32m---> 63\u001b[1;33m \u001b[0mvs\u001b[0m\u001b[1;33m.\u001b[0m\u001b[0mstop\u001b[0m\u001b[1;33m(\u001b[0m\u001b[1;33m)\u001b[0m\u001b[1;33m\u001b[0m\u001b[1;33m\u001b[0m\u001b[0m\n\u001b[0m",
      "\u001b[1;31mAttributeError\u001b[0m: 'VideoCapture' object has no attribute 'stop'"
     ]
    }
   ],
   "source": [
    "vs = cap = VideoCapture(0)\n",
    "# warm up the camera for a couple of seconds\n",
    "time.sleep(2.0)\n",
    "CLASSES = classes\n",
    "COLORS = np.random.uniform(0, 255, size=(len(classes), 3))\n",
    "# FPS: used to compute the (approximate) frames per second\n",
    "# Start the FPS timer\n",
    "fps = FPS().start()\n",
    "font = cv2.FONT_HERSHEY_SIMPLEX\n",
    "while True:\n",
    "    time.sleep(.5) \n",
    "    # grab the frame from the threaded video stream and resize it to have a maximum width of 400 pixels\n",
    "    # vs is the VideoStream\n",
    "    frame = vs.read()\n",
    "    frame = imutils.resize(frame, width=400)\n",
    "    (h, w) = frame.shape[:2]\n",
    "    resized_img = cv2.resize(frame, (150, 150)).reshape(-1, 150, 150, 3)/255\n",
    "#     \n",
    "\n",
    "\n",
    "    \n",
    "    predictions = new_model.predict(resized_img)\n",
    "#     print(classes[np.argmax(predictions)])\n",
    "    predited = classes[np.argmax(predictions)]\n",
    "# #     (startX, startY, endX, endY) = predictions[0]\n",
    "    \n",
    "#     # scale the predicted bounding box coordinates based on the image\n",
    "#     # dimensions\n",
    "#     startX = int(startX * w)\n",
    "#     startY = int(startY * h)\n",
    "#     endX = int(endX * w)\n",
    "#     endY = int(endY * h)\n",
    "    \n",
    "    cv2.putText(frame, predited, (10,100), font, 1, (255, 255, 0), 2)\n",
    "    \n",
    "#     # draw the predicted bounding box on the image\n",
    "#     cv2.rectangle(image, (startX, startY), (endX, endY),\n",
    "#         (0, 255, 0), 2)\n",
    "    \n",
    "#  # show the output frame\n",
    "    cv2.imshow(\"Frame\", frame)\n",
    "\n",
    "    # Now, let's code this logic (just 3 lines, lol)\n",
    "    key = cv2.waitKey(1) & 0xFF\n",
    "\n",
    "    # Press 'q' key to break the loop\n",
    "    if key == ord(\"q\"):\n",
    "        break\n",
    "\n",
    "    # update the FPS counter\n",
    "    fps.update()\n",
    "\n",
    "# stop the timer\n",
    "fps.stop()\n",
    "\n",
    "# Display FPS Information: Total Elapsed time and an approximate FPS over the entire video stream\n",
    "print(\"[INFO] Elapsed Time: {:.2f}\".format(fps.elapsed()))\n",
    "print(\"[INFO] Approximate FPS: {:.2f}\".format(fps.fps()))\n",
    "\n",
    "# Destroy windows and cleanup\n",
    "cv2.destroyAllWindows()\n",
    "# Stop the video stream\n",
    "vs.stop()\n"
   ]
  },
  {
   "cell_type": "code",
   "execution_count": null,
   "id": "0bcd8fcf",
   "metadata": {},
   "outputs": [],
   "source": []
  }
 ],
 "metadata": {
  "kernelspec": {
   "display_name": "Python 3 (ipykernel)",
   "language": "python",
   "name": "python3"
  },
  "language_info": {
   "codemirror_mode": {
    "name": "ipython",
    "version": 3
   },
   "file_extension": ".py",
   "mimetype": "text/x-python",
   "name": "python",
   "nbconvert_exporter": "python",
   "pygments_lexer": "ipython3",
   "version": "3.9.7"
  }
 },
 "nbformat": 4,
 "nbformat_minor": 5
}
